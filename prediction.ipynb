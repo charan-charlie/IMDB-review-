{
 "cells": [
  {
   "cell_type": "code",
   "execution_count": 2,
   "metadata": {},
   "outputs": [],
   "source": [
    "# Step 1 : import libraries and load the model\n",
    "import numpy as np\n",
    "import tensorflow as tf\n",
    "from tensorflow.keras.datasets import imdb\n",
    "from tensorflow.keras.preprocessing.sequence import pad_sequences\n",
    "from tensorflow.keras.models import load_model"
   ]
  },
  {
   "cell_type": "code",
   "execution_count": 3,
   "metadata": {},
   "outputs": [],
   "source": [
    "word_index = imdb.get_word_index()\n",
    "reverse_word_index = {value : key for key,value in word_index.items()}"
   ]
  },
  {
   "cell_type": "code",
   "execution_count": 4,
   "metadata": {},
   "outputs": [
    {
     "name": "stderr",
     "output_type": "stream",
     "text": [
      "WARNING:absl:Compiled the loaded model, but the compiled metrics have yet to be built. `model.compile_metrics` will be empty until you train or evaluate the model.\n"
     ]
    }
   ],
   "source": [
    "model = load_model(\"Simple_rnn_imdb.h5\")"
   ]
  },
  {
   "cell_type": "code",
   "execution_count": 5,
   "metadata": {},
   "outputs": [
    {
     "data": {
      "text/html": [
       "<pre style=\"white-space:pre;overflow-x:auto;line-height:normal;font-family:Menlo,'DejaVu Sans Mono',consolas,'Courier New',monospace\"><span style=\"font-weight: bold\">Model: \"sequential_4\"</span>\n",
       "</pre>\n"
      ],
      "text/plain": [
       "\u001b[1mModel: \"sequential_4\"\u001b[0m\n"
      ]
     },
     "metadata": {},
     "output_type": "display_data"
    },
    {
     "data": {
      "text/html": [
       "<pre style=\"white-space:pre;overflow-x:auto;line-height:normal;font-family:Menlo,'DejaVu Sans Mono',consolas,'Courier New',monospace\">┏━━━━━━━━━━━━━━━━━━━━━━━━━━━━━━━━━┳━━━━━━━━━━━━━━━━━━━━━━━━┳━━━━━━━━━━━━━━━┓\n",
       "┃<span style=\"font-weight: bold\"> Layer (type)                    </span>┃<span style=\"font-weight: bold\"> Output Shape           </span>┃<span style=\"font-weight: bold\">       Param # </span>┃\n",
       "┡━━━━━━━━━━━━━━━━━━━━━━━━━━━━━━━━━╇━━━━━━━━━━━━━━━━━━━━━━━━╇━━━━━━━━━━━━━━━┩\n",
       "│ embedding_4 (<span style=\"color: #0087ff; text-decoration-color: #0087ff\">Embedding</span>)         │ (<span style=\"color: #00af00; text-decoration-color: #00af00\">32</span>, <span style=\"color: #00af00; text-decoration-color: #00af00\">500</span>, <span style=\"color: #00af00; text-decoration-color: #00af00\">128</span>)         │     <span style=\"color: #00af00; text-decoration-color: #00af00\">1,280,000</span> │\n",
       "├─────────────────────────────────┼────────────────────────┼───────────────┤\n",
       "│ simple_rnn_3 (<span style=\"color: #0087ff; text-decoration-color: #0087ff\">SimpleRNN</span>)        │ (<span style=\"color: #00af00; text-decoration-color: #00af00\">32</span>, <span style=\"color: #00af00; text-decoration-color: #00af00\">128</span>)              │        <span style=\"color: #00af00; text-decoration-color: #00af00\">32,896</span> │\n",
       "├─────────────────────────────────┼────────────────────────┼───────────────┤\n",
       "│ dense_3 (<span style=\"color: #0087ff; text-decoration-color: #0087ff\">Dense</span>)                 │ (<span style=\"color: #00af00; text-decoration-color: #00af00\">32</span>, <span style=\"color: #00af00; text-decoration-color: #00af00\">1</span>)                │           <span style=\"color: #00af00; text-decoration-color: #00af00\">129</span> │\n",
       "└─────────────────────────────────┴────────────────────────┴───────────────┘\n",
       "</pre>\n"
      ],
      "text/plain": [
       "┏━━━━━━━━━━━━━━━━━━━━━━━━━━━━━━━━━┳━━━━━━━━━━━━━━━━━━━━━━━━┳━━━━━━━━━━━━━━━┓\n",
       "┃\u001b[1m \u001b[0m\u001b[1mLayer (type)                   \u001b[0m\u001b[1m \u001b[0m┃\u001b[1m \u001b[0m\u001b[1mOutput Shape          \u001b[0m\u001b[1m \u001b[0m┃\u001b[1m \u001b[0m\u001b[1m      Param #\u001b[0m\u001b[1m \u001b[0m┃\n",
       "┡━━━━━━━━━━━━━━━━━━━━━━━━━━━━━━━━━╇━━━━━━━━━━━━━━━━━━━━━━━━╇━━━━━━━━━━━━━━━┩\n",
       "│ embedding_4 (\u001b[38;5;33mEmbedding\u001b[0m)         │ (\u001b[38;5;34m32\u001b[0m, \u001b[38;5;34m500\u001b[0m, \u001b[38;5;34m128\u001b[0m)         │     \u001b[38;5;34m1,280,000\u001b[0m │\n",
       "├─────────────────────────────────┼────────────────────────┼───────────────┤\n",
       "│ simple_rnn_3 (\u001b[38;5;33mSimpleRNN\u001b[0m)        │ (\u001b[38;5;34m32\u001b[0m, \u001b[38;5;34m128\u001b[0m)              │        \u001b[38;5;34m32,896\u001b[0m │\n",
       "├─────────────────────────────────┼────────────────────────┼───────────────┤\n",
       "│ dense_3 (\u001b[38;5;33mDense\u001b[0m)                 │ (\u001b[38;5;34m32\u001b[0m, \u001b[38;5;34m1\u001b[0m)                │           \u001b[38;5;34m129\u001b[0m │\n",
       "└─────────────────────────────────┴────────────────────────┴───────────────┘\n"
      ]
     },
     "metadata": {},
     "output_type": "display_data"
    },
    {
     "data": {
      "text/html": [
       "<pre style=\"white-space:pre;overflow-x:auto;line-height:normal;font-family:Menlo,'DejaVu Sans Mono',consolas,'Courier New',monospace\"><span style=\"font-weight: bold\"> Total params: </span><span style=\"color: #00af00; text-decoration-color: #00af00\">1,313,027</span> (5.01 MB)\n",
       "</pre>\n"
      ],
      "text/plain": [
       "\u001b[1m Total params: \u001b[0m\u001b[38;5;34m1,313,027\u001b[0m (5.01 MB)\n"
      ]
     },
     "metadata": {},
     "output_type": "display_data"
    },
    {
     "data": {
      "text/html": [
       "<pre style=\"white-space:pre;overflow-x:auto;line-height:normal;font-family:Menlo,'DejaVu Sans Mono',consolas,'Courier New',monospace\"><span style=\"font-weight: bold\"> Trainable params: </span><span style=\"color: #00af00; text-decoration-color: #00af00\">1,313,025</span> (5.01 MB)\n",
       "</pre>\n"
      ],
      "text/plain": [
       "\u001b[1m Trainable params: \u001b[0m\u001b[38;5;34m1,313,025\u001b[0m (5.01 MB)\n"
      ]
     },
     "metadata": {},
     "output_type": "display_data"
    },
    {
     "data": {
      "text/html": [
       "<pre style=\"white-space:pre;overflow-x:auto;line-height:normal;font-family:Menlo,'DejaVu Sans Mono',consolas,'Courier New',monospace\"><span style=\"font-weight: bold\"> Non-trainable params: </span><span style=\"color: #00af00; text-decoration-color: #00af00\">0</span> (0.00 B)\n",
       "</pre>\n"
      ],
      "text/plain": [
       "\u001b[1m Non-trainable params: \u001b[0m\u001b[38;5;34m0\u001b[0m (0.00 B)\n"
      ]
     },
     "metadata": {},
     "output_type": "display_data"
    },
    {
     "data": {
      "text/html": [
       "<pre style=\"white-space:pre;overflow-x:auto;line-height:normal;font-family:Menlo,'DejaVu Sans Mono',consolas,'Courier New',monospace\"><span style=\"font-weight: bold\"> Optimizer params: </span><span style=\"color: #00af00; text-decoration-color: #00af00\">2</span> (12.00 B)\n",
       "</pre>\n"
      ],
      "text/plain": [
       "\u001b[1m Optimizer params: \u001b[0m\u001b[38;5;34m2\u001b[0m (12.00 B)\n"
      ]
     },
     "metadata": {},
     "output_type": "display_data"
    }
   ],
   "source": [
    "model.summary()"
   ]
  },
  {
   "cell_type": "code",
   "execution_count": 6,
   "metadata": {},
   "outputs": [
    {
     "data": {
      "text/plain": [
       "[array([[-0.5899286 ,  0.16816387,  0.19519912, ...,  0.23336321,\n",
       "         -0.3718441 , -0.16002484],\n",
       "        [-0.04589349,  0.00832395,  0.06424506, ..., -0.00400836,\n",
       "          0.01081935,  0.06674323],\n",
       "        [-0.0232163 , -0.06968744,  0.07326142, ..., -0.04512871,\n",
       "          0.02732868,  0.03445011],\n",
       "        ...,\n",
       "        [ 0.04569051, -0.04110556,  0.07842517, ..., -0.05445229,\n",
       "          0.04994874,  0.06992391],\n",
       "        [ 0.00205679,  0.07487469, -0.10576562, ...,  0.04473622,\n",
       "         -0.10432333,  0.02332226],\n",
       "        [ 0.01770565,  0.04410028,  0.1894586 , ..., -0.15202895,\n",
       "          0.12560874, -0.02848723]], dtype=float32),\n",
       " array([[ 3.65208648e-02,  1.66862145e-01,  1.44996837e-01, ...,\n",
       "          5.98611459e-02,  7.46171996e-02, -3.96658666e-02],\n",
       "        [ 1.15740627e-01, -1.40703633e-01, -1.22543693e-01, ...,\n",
       "         -9.83848497e-02,  1.56090319e-01,  7.91484397e-03],\n",
       "        [ 3.31071205e-02, -4.23561819e-02,  1.27318781e-02, ...,\n",
       "         -1.17545878e-03, -1.28646374e-01,  1.00373346e-02],\n",
       "        ...,\n",
       "        [ 7.60034919e-02, -1.95744425e-01, -7.91903064e-02, ...,\n",
       "         -2.83595733e-02,  1.16713226e-01,  3.99214439e-02],\n",
       "        [-6.27641901e-02,  2.24822849e-01, -6.58663121e-05, ...,\n",
       "          2.58272327e-02, -1.02002777e-01,  1.27413487e-02],\n",
       "        [ 9.13370848e-02,  7.08179399e-02,  6.81984350e-02, ...,\n",
       "          1.21278182e-01, -8.15566257e-02,  2.13720612e-02]], dtype=float32),\n",
       " array([[-0.12517452,  0.05431874,  0.19231759, ..., -0.08362247,\n",
       "         -0.03119304,  0.00315036],\n",
       "        [-0.02349102, -0.0221212 ,  0.01940683, ...,  0.06258667,\n",
       "         -0.05319688,  0.06635237],\n",
       "        [-0.06118955,  0.03461306, -0.08403543, ..., -0.00337946,\n",
       "         -0.10494139,  0.04282417],\n",
       "        ...,\n",
       "        [ 0.12634717, -0.06500565,  0.11223327, ..., -0.1345267 ,\n",
       "         -0.10215593,  0.11550854],\n",
       "        [-0.06428508,  0.0062734 , -0.09315344, ..., -0.06898416,\n",
       "          0.00025134, -0.03340607],\n",
       "        [-0.14324938,  0.08761305, -0.09187296, ..., -0.13362493,\n",
       "         -0.07318313, -0.02285566]], dtype=float32),\n",
       " array([-0.0007481 ,  0.02552712,  0.01395976,  0.00046454, -0.00247216,\n",
       "         0.0097526 ,  0.02033538, -0.02790441, -0.01110524, -0.03154753,\n",
       "        -0.03808333, -0.00849252,  0.02868572,  0.0108876 , -0.00310373,\n",
       "        -0.02586935, -0.02903274,  0.02032819, -0.00365542, -0.0202539 ,\n",
       "         0.02029948,  0.02372138,  0.00018807,  0.02108259, -0.00363584,\n",
       "        -0.0237402 ,  0.03650355,  0.01842791, -0.01203432, -0.0069137 ,\n",
       "         0.03962945,  0.01848077,  0.00511297, -0.02482203,  0.03237649,\n",
       "         0.02413445,  0.02939417, -0.01464637, -0.003213  , -0.02392891,\n",
       "        -0.02683033, -0.02760122, -0.0353288 , -0.0284167 , -0.02073221,\n",
       "        -0.02085478, -0.01670719, -0.00677846, -0.01948694, -0.01274895,\n",
       "         0.03042979, -0.04094595,  0.0237294 ,  0.03116862, -0.03390954,\n",
       "        -0.01251859,  0.02135716, -0.03067604, -0.02482765, -0.00148858,\n",
       "         0.01252727, -0.01680534, -0.03126585,  0.03667184, -0.00046665,\n",
       "        -0.02919819, -0.02901091,  0.01271426, -0.023825  ,  0.01092919,\n",
       "        -0.01982178, -0.00795195,  0.00816483,  0.03709983, -0.02550391,\n",
       "         0.02722668,  0.02306009,  0.01010442, -0.02026056,  0.02165182,\n",
       "         0.02750816, -0.01466072, -0.01245147,  0.01388115, -0.004165  ,\n",
       "        -0.02461718, -0.01927941, -0.04966539,  0.02107926, -0.01463249,\n",
       "         0.00765419, -0.00695773, -0.01845738, -0.00646514, -0.02174431,\n",
       "        -0.00249074, -0.01145263, -0.01720512,  0.01565601, -0.04064031,\n",
       "         0.016463  ,  0.02595514, -0.03905234,  0.00838445, -0.01984605,\n",
       "        -0.01880689, -0.00582897, -0.00659393, -0.01705728, -0.00804689,\n",
       "         0.02636611, -0.02956723, -0.04241333, -0.01943491,  0.01548084,\n",
       "         0.01415237, -0.00573405,  0.00478447, -0.00348626, -0.03105068,\n",
       "        -0.03342156, -0.02899752, -0.02923778, -0.03247979,  0.02748064,\n",
       "        -0.02424973, -0.00018012,  0.00190071], dtype=float32),\n",
       " array([[-0.07979505],\n",
       "        [ 0.1613674 ],\n",
       "        [ 0.08727374],\n",
       "        [-0.12377714],\n",
       "        [-0.03685375],\n",
       "        [-0.26027635],\n",
       "        [ 0.19530329],\n",
       "        [ 0.02905299],\n",
       "        [-0.75781655],\n",
       "        [ 0.01412312],\n",
       "        [ 0.23977514],\n",
       "        [ 0.03701571],\n",
       "        [ 0.1088597 ],\n",
       "        [-0.23972936],\n",
       "        [ 0.09865475],\n",
       "        [-0.51641405],\n",
       "        [-0.2054156 ],\n",
       "        [ 0.20033155],\n",
       "        [-0.21933995],\n",
       "        [ 1.3446617 ],\n",
       "        [ 0.04499369],\n",
       "        [ 0.03105731],\n",
       "        [-0.06058111],\n",
       "        [ 0.2193903 ],\n",
       "        [ 0.16330117],\n",
       "        [-0.16931032],\n",
       "        [ 0.14468282],\n",
       "        [ 0.1909203 ],\n",
       "        [-0.04645333],\n",
       "        [-0.17372476],\n",
       "        [ 0.23015837],\n",
       "        [ 0.21416982],\n",
       "        [ 0.00842139],\n",
       "        [ 0.05097178],\n",
       "        [ 0.2204838 ],\n",
       "        [ 0.18632771],\n",
       "        [ 0.11817079],\n",
       "        [-0.2442695 ],\n",
       "        [-0.01467277],\n",
       "        [-0.09952372],\n",
       "        [-0.767062  ],\n",
       "        [-0.02799617],\n",
       "        [ 0.00228386],\n",
       "        [ 0.23500809],\n",
       "        [ 0.07156972],\n",
       "        [-0.18881366],\n",
       "        [-0.24124198],\n",
       "        [-0.08843791],\n",
       "        [ 0.2034549 ],\n",
       "        [-0.23854768],\n",
       "        [ 0.05409613],\n",
       "        [ 0.00585859],\n",
       "        [ 0.1881913 ],\n",
       "        [ 0.20559204],\n",
       "        [ 0.1291626 ],\n",
       "        [-0.1845869 ],\n",
       "        [-0.01151975],\n",
       "        [-0.1517039 ],\n",
       "        [-0.05130742],\n",
       "        [-0.67289966],\n",
       "        [ 0.09625413],\n",
       "        [-0.11588513],\n",
       "        [-0.1779702 ],\n",
       "        [ 0.16260037],\n",
       "        [-0.4132311 ],\n",
       "        [-0.34037137],\n",
       "        [-0.17242278],\n",
       "        [-0.21513398],\n",
       "        [ 0.00719067],\n",
       "        [ 0.04738992],\n",
       "        [-0.02567691],\n",
       "        [ 0.26564428],\n",
       "        [ 0.08740996],\n",
       "        [-0.2073717 ],\n",
       "        [-0.11810578],\n",
       "        [ 0.07568093],\n",
       "        [-0.03968732],\n",
       "        [-0.5496254 ],\n",
       "        [ 0.12596132],\n",
       "        [-0.7725055 ],\n",
       "        [ 0.20830591],\n",
       "        [ 0.1062129 ],\n",
       "        [-0.18260558],\n",
       "        [ 0.02147887],\n",
       "        [ 0.2619688 ],\n",
       "        [-0.01166998],\n",
       "        [-0.03285357],\n",
       "        [ 0.10192081],\n",
       "        [ 0.22552784],\n",
       "        [-0.1024739 ],\n",
       "        [-0.3227474 ],\n",
       "        [-0.23975854],\n",
       "        [-0.02548946],\n",
       "        [-0.25471932],\n",
       "        [-0.21930277],\n",
       "        [-0.07830546],\n",
       "        [-0.24320666],\n",
       "        [-0.24958046],\n",
       "        [-0.47093332],\n",
       "        [ 0.08075558],\n",
       "        [-0.11889266],\n",
       "        [ 0.23484543],\n",
       "        [ 0.20701456],\n",
       "        [-0.03469224],\n",
       "        [-0.02315137],\n",
       "        [-0.2990027 ],\n",
       "        [ 0.22960852],\n",
       "        [ 0.00344682],\n",
       "        [-0.05426846],\n",
       "        [ 0.06235055],\n",
       "        [-0.07145293],\n",
       "        [ 0.07754966],\n",
       "        [ 0.06679878],\n",
       "        [-0.21957189],\n",
       "        [ 0.15846859],\n",
       "        [-0.15779346],\n",
       "        [-0.2833525 ],\n",
       "        [-0.09306923],\n",
       "        [ 0.1742461 ],\n",
       "        [ 0.06326852],\n",
       "        [-0.1429821 ],\n",
       "        [-0.11614534],\n",
       "        [ 0.0759602 ],\n",
       "        [ 0.05863667],\n",
       "        [-0.13980746],\n",
       "        [-0.0192646 ],\n",
       "        [-0.2652577 ],\n",
       "        [ 0.03310239]], dtype=float32),\n",
       " array([-0.5883501], dtype=float32)]"
      ]
     },
     "execution_count": 6,
     "metadata": {},
     "output_type": "execute_result"
    }
   ],
   "source": [
    "model.get_weights()"
   ]
  },
  {
   "cell_type": "code",
   "execution_count": 7,
   "metadata": {},
   "outputs": [],
   "source": [
    "#Step 2 : Helper Functions \n",
    "\n",
    "# Function to decode reviews\n",
    "\n",
    "def decode_review(encoded_review):\n",
    "    return ' '.join([reverse_word_index.get(i-3,\" ?\") for i in encoded_review])\n",
    "\n",
    "## Function to preprocess user input \n",
    "def preprocess_text(text):\n",
    "    words = text.lower().split()\n",
    "    encoded_review = [ word_index.get(word,2) + 3 for word in words]\n",
    "    padded_review = pad_sequences([encoded_review],padding=\"pre\",maxlen=500)\n",
    "    return padded_review"
   ]
  },
  {
   "cell_type": "code",
   "execution_count": 8,
   "metadata": {},
   "outputs": [],
   "source": [
    "## prediction function\n",
    "\n",
    "def predict_sentiment(review):\n",
    "    preprocessed_input = preprocess_text(review)\n",
    "\n",
    "    prediction = model.predict(preprocessed_input)\n",
    "\n",
    "    sentiment = 'Positive' if prediction[0][0] > 0.5 else 'Negative'\n",
    "\n",
    "    return sentiment, prediction[0][0]"
   ]
  },
  {
   "cell_type": "code",
   "execution_count": 10,
   "metadata": {},
   "outputs": [
    {
     "name": "stdout",
     "output_type": "stream",
     "text": [
      "\u001b[1m1/1\u001b[0m \u001b[32m━━━━━━━━━━━━━━━━━━━━\u001b[0m\u001b[37m\u001b[0m \u001b[1m0s\u001b[0m 202ms/step\n",
      "Review : This movie was fantastic! The acting was great and the plot was thrilling.\n",
      "Sentiment : Positive\n",
      "Prediction Score : 0.5950477123260498\n"
     ]
    }
   ],
   "source": [
    "# Step 4 : User Input and Prediction \n",
    "# Example review for prediction\n",
    "\n",
    "example_review = \"This movie was fantastic! The acting was great and the plot was thrilling.\"\n",
    "\n",
    "sentiment,sscore = predict_sentiment(example_review)\n",
    "\n",
    "print(f\"Review : {example_review}\")\n",
    "print(f\"Sentiment : {sentiment}\")\n",
    "print(f\"Prediction Score : {sscore}\")"
   ]
  },
  {
   "cell_type": "code",
   "execution_count": null,
   "metadata": {},
   "outputs": [],
   "source": []
  }
 ],
 "metadata": {
  "kernelspec": {
   "display_name": "Python 3",
   "language": "python",
   "name": "python3"
  },
  "language_info": {
   "codemirror_mode": {
    "name": "ipython",
    "version": 3
   },
   "file_extension": ".py",
   "mimetype": "text/x-python",
   "name": "python",
   "nbconvert_exporter": "python",
   "pygments_lexer": "ipython3",
   "version": "3.11.0"
  }
 },
 "nbformat": 4,
 "nbformat_minor": 2
}
